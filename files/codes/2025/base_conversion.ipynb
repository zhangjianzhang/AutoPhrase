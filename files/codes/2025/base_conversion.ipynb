{
  "cells": [
    {
      "cell_type": "markdown",
      "source": [
        "### 将整数转换为其他进制的字符串\n",
        "\n",
        "这个例子展示了如何使用 `bin()`, `oct()`, 和 `hex()` 函数。"
      ],
      "metadata": {
        "id": "NNzmeVhyDPg-"
      }
    },
    {
      "cell_type": "code",
      "source": [
        "decimal_number = 83\n",
        "\n",
        "# 转换为二进制\n",
        "binary_representation = bin(decimal_number)\n",
        "print(f\"十进制数 {decimal_number} 的二进制表示是: {binary_representation}\")\n",
        "\n",
        "# 转换为八进制\n",
        "octal_representation = oct(decimal_number)\n",
        "print(f\"十进制数 {decimal_number} 的八进制表示是: {octal_representation}\")\n",
        "\n",
        "# 转换为十六进制\n",
        "hexadecimal_representation = hex(decimal_number)\n",
        "print(f\"十进制数 {decimal_number} 的十六进制表示是: {hexadecimal_representation}\")"
      ],
      "outputs": [
        {
          "output_type": "stream",
          "name": "stdout",
          "text": [
            "十进制数 83 的二进制表示是: 0b1010011\n",
            "十进制数 83 的八进制表示是: 0o123\n",
            "十进制数 83 的十六进制表示是: 0x53\n"
          ]
        }
      ],
      "execution_count": 3,
      "metadata": {
        "colab": {
          "base_uri": "https://localhost:8080/"
        },
        "id": "52KrQ08lDPhG",
        "outputId": "e270bce9-cad7-4ac2-82e1-5ab8167f1629"
      }
    },
    {
      "cell_type": "markdown",
      "source": [
        "\n",
        "\n",
        "### 将其他进制的字符串转换为整数\n",
        "\n",
        "这个例子展示了如何使用 `int()` 函数，并通过第二个参数指定字符串的原始进制。"
      ],
      "metadata": {
        "id": "wL8VpmOLDPhJ"
      }
    },
    {
      "cell_type": "code",
      "source": [
        "# 从二进制字符串转换\n",
        "binary_str = '0b1010'\n",
        "decimal_from_bin = int(binary_str, 2)\n",
        "print(f\"二进制字符串 '{binary_str}' 对应的十进制数是: {decimal_from_bin}\")\n",
        "\n",
        "# 从八进制字符串转换\n",
        "octal_str = '0o123'\n",
        "decimal_from_oct = int(octal_str, 8)\n",
        "print(f\"八进制字符串 '{octal_str}' 对应的十进制数是: {decimal_from_oct}\")\n",
        "\n",
        "# 从十六进制字符串转换 (不区分大小写)\n",
        "hex_str = '0x1a'\n",
        "decimal_from_hex = int(hex_str, 16)\n",
        "print(f\"十六进制字符串 '{hex_str}' 对应的十进制数是: {decimal_from_hex}\")"
      ],
      "outputs": [
        {
          "output_type": "stream",
          "name": "stdout",
          "text": [
            "二进制字符串 '0b1010' 对应的十进制数是: 10\n",
            "八进制字符串 '0o123' 对应的十进制数是: 83\n",
            "十六进制字符串 '0x1a' 对应的十进制数是: 26\n"
          ]
        }
      ],
      "execution_count": 4,
      "metadata": {
        "colab": {
          "base_uri": "https://localhost:8080/"
        },
        "id": "1N5n1ABGDPhK",
        "outputId": "5ce4b64c-df67-49ed-e9ff-890ad3784ab4"
      }
    }
  ],
  "metadata": {
    "colab": {
      "provenance": [],
      "toc_visible": true
    },
    "kernelspec": {
      "display_name": "Python 3",
      "name": "python3"
    }
  },
  "nbformat": 4,
  "nbformat_minor": 0
}